{
  "nbformat": 4,
  "nbformat_minor": 0,
  "metadata": {
    "colab": {
      "provenance": []
    },
    "kernelspec": {
      "name": "python3",
      "display_name": "Python 3"
    },
    "language_info": {
      "name": "python"
    }
  },
  "cells": [
    {
      "cell_type": "code",
      "source": [
        "import pandas as pd\n",
        "import nltk\n",
        "from nltk.sentiment import SentimentIntensityAnalyzer\n",
        "import string\n",
        "\n",
        "# Download NLTK resources\n",
        "nltk.download('vader_lexicon')\n",
        "\n",
        "# Load your cosmetic dataset (replace 'your_dataset.csv' with the actual file name)\n",
        "df = pd.read_csv('/content/reviews_1250-end.csv')\n",
        "\n",
        "# Assuming your dataset has 'text' column\n",
        "X = df['review_text']\n",
        "\n",
        "# Text preprocessing\n",
        "def preprocess_text(text):\n",
        "    # Check if the text is not NaN\n",
        "    if isinstance(text, str):\n",
        "        # Convert to lowercase\n",
        "        text = text.lower()\n",
        "        # Remove punctuation\n",
        "        text = ''.join([char for char in text if char not in string.punctuation])\n",
        "        return text\n",
        "    else:\n",
        "        return ''\n",
        "\n",
        "X = X.apply(preprocess_text)\n",
        "\n",
        "# Use VADER sentiment analyzer\n",
        "sia = SentimentIntensityAnalyzer()\n",
        "\n",
        "# Calculate compound scores for each review\n",
        "compound_scores = X.apply(lambda text: sia.polarity_scores(text)['compound'])\n",
        "\n",
        "# Assign labels based on compound scores\n",
        "labels = compound_scores.apply(lambda score: 'positive' if score >= 0 else 'negative')\n",
        "\n",
        "# Add labels to the DataFrame\n",
        "df['label'] = labels\n",
        "\n",
        "# Display the DataFrame with labels\n",
        "print(df)\n"
      ],
      "metadata": {
        "colab": {
          "base_uri": "https://localhost:8080/"
        },
        "id": "gLC2x2oP11F8",
        "outputId": "ee2da579-1776-4072-bf9f-565abcdd3c33"
      },
      "execution_count": 4,
      "outputs": [
        {
          "output_type": "stream",
          "name": "stderr",
          "text": [
            "[nltk_data] Downloading package vader_lexicon to /root/nltk_data...\n",
            "[nltk_data]   Package vader_lexicon is already up-to-date!\n",
            "<ipython-input-4-863786e43bf5>:10: DtypeWarning: Columns (1) have mixed types. Specify dtype option on import or set low_memory=False.\n",
            "  df = pd.read_csv('/content/reviews_1250-end.csv')\n"
          ]
        },
        {
          "output_type": "stream",
          "name": "stdout",
          "text": [
            "       Unnamed: 0    author_id  rating  is_recommended  helpfulness  \\\n",
            "0               0   1945004256       5             1.0     0.000000   \n",
            "1               1   5478482359       3             1.0     0.333333   \n",
            "2               2  29002209922       5             1.0     1.000000   \n",
            "3               3   7391078463       5             1.0     1.000000   \n",
            "4               4   1766313888       5             1.0     1.000000   \n",
            "...           ...          ...     ...             ...          ...   \n",
            "49972       49972   2276253200       5             1.0          NaN   \n",
            "49973       49973  28013163278       5             1.0          NaN   \n",
            "49974       49974   1539813076       5             1.0          NaN   \n",
            "49975       49975   5595682861       5             1.0          NaN   \n",
            "49976       49976  27666075558       5             1.0          NaN   \n",
            "\n",
            "       total_feedback_count  total_neg_feedback_count  \\\n",
            "0                         2                         2   \n",
            "1                         3                         2   \n",
            "2                         2                         0   \n",
            "3                         2                         0   \n",
            "4                        13                         0   \n",
            "...                     ...                       ...   \n",
            "49972                     0                         0   \n",
            "49973                     0                         0   \n",
            "49974                     0                         0   \n",
            "49975                     0                         0   \n",
            "49976                     0                         0   \n",
            "\n",
            "       total_pos_feedback_count submission_time  \\\n",
            "0                             0      2022-12-10   \n",
            "1                             1      2021-12-17   \n",
            "2                             2      2021-06-07   \n",
            "3                             2      2021-05-21   \n",
            "4                            13      2021-03-29   \n",
            "...                         ...             ...   \n",
            "49972                         0      2023-03-13   \n",
            "49973                         0      2023-03-13   \n",
            "49974                         0      2023-03-13   \n",
            "49975                         0      2023-03-13   \n",
            "49976                         0      2023-03-13   \n",
            "\n",
            "                                             review_text  \\\n",
            "0      I absolutely L-O-V-E this oil. I have acne pro...   \n",
            "1      I gave this 3 stars because it give me tiny li...   \n",
            "2      Works well as soon as I wash my face and pat d...   \n",
            "3      this oil helped with hydration and breakouts, ...   \n",
            "4      This is my first product review ever so that s...   \n",
            "...                                                  ...   \n",
            "49972  Consider salicylic acid your secret weapon for...   \n",
            "49973  I’ve been using this as my only moisturizer fo...   \n",
            "49974  I got breakouts whenever it’s my time of month...   \n",
            "49975  I love this!!! I don’t get actual acne just an...   \n",
            "49976  I have never tried anything from StriVectin bu...   \n",
            "\n",
            "                           review_title    skin_tone eye_color    skin_type  \\\n",
            "0                          A must have!  lightMedium     green  combination   \n",
            "1      it keeps oily skin under control    mediumTan     brown         oily   \n",
            "2                      Worth the money!  lightMedium     brown          dry   \n",
            "3                         best face oil  lightMedium     brown  combination   \n",
            "4                        Maskne miracle    mediumTan     brown  combination   \n",
            "...                                 ...          ...       ...          ...   \n",
            "49972                               NaN         fair     brown  combination   \n",
            "49973                               NaN          NaN      blue  combination   \n",
            "49974                               NaN        light      blue  combination   \n",
            "49975                               NaN         fair     hazel         oily   \n",
            "49976                   Amazing Product        light     green       normal   \n",
            "\n",
            "      hair_color product_id  \\\n",
            "0            NaN    P379064   \n",
            "1          black    P379064   \n",
            "2          black    P379064   \n",
            "3         blonde    P379064   \n",
            "4          black    P379064   \n",
            "...          ...        ...   \n",
            "49972        NaN    P505392   \n",
            "49973     blonde    P505392   \n",
            "49974     blonde    P505392   \n",
            "49975        NaN    P505392   \n",
            "49976        NaN    P505392   \n",
            "\n",
            "                                            product_name  brand_name  \\\n",
            "0      Lotus Balancing & Hydrating Natural Face Treat...     Clarins   \n",
            "1      Lotus Balancing & Hydrating Natural Face Treat...     Clarins   \n",
            "2      Lotus Balancing & Hydrating Natural Face Treat...     Clarins   \n",
            "3      Lotus Balancing & Hydrating Natural Face Treat...     Clarins   \n",
            "4      Lotus Balancing & Hydrating Natural Face Treat...     Clarins   \n",
            "...                                                  ...         ...   \n",
            "49972  Multi Action Clear Acne Clearing Treatment Lot...  StriVectin   \n",
            "49973  Multi Action Clear Acne Clearing Treatment Lot...  StriVectin   \n",
            "49974  Multi Action Clear Acne Clearing Treatment Lot...  StriVectin   \n",
            "49975  Multi Action Clear Acne Clearing Treatment Lot...  StriVectin   \n",
            "49976  Multi Action Clear Acne Clearing Treatment Lot...  StriVectin   \n",
            "\n",
            "       price_usd     label  \n",
            "0           65.0  positive  \n",
            "1           65.0  negative  \n",
            "2           65.0  positive  \n",
            "3           65.0  positive  \n",
            "4           65.0  negative  \n",
            "...          ...       ...  \n",
            "49972       49.0  negative  \n",
            "49973       49.0  positive  \n",
            "49974       49.0  positive  \n",
            "49975       49.0  positive  \n",
            "49976       49.0  positive  \n",
            "\n",
            "[49977 rows x 20 columns]\n"
          ]
        }
      ]
    },
    {
      "cell_type": "code",
      "source": [
        "df['review_text'][3]"
      ],
      "metadata": {
        "id": "TONKkr4xV0EC"
      },
      "execution_count": null,
      "outputs": []
    },
    {
      "cell_type": "code",
      "source": [
        "y=df.label\n",
        "y"
      ],
      "metadata": {
        "colab": {
          "base_uri": "https://localhost:8080/",
          "height": 458
        },
        "id": "NkH_K4uUWJSh",
        "outputId": "c3df7977-e5e2-4554-e888-ca0fb8cd0296"
      },
      "execution_count": 6,
      "outputs": [
        {
          "output_type": "execute_result",
          "data": {
            "text/plain": [
              "0        positive\n",
              "1        negative\n",
              "2        positive\n",
              "3        positive\n",
              "4        negative\n",
              "           ...   \n",
              "49972    negative\n",
              "49973    positive\n",
              "49974    positive\n",
              "49975    positive\n",
              "49976    positive\n",
              "Name: label, Length: 49977, dtype: object"
            ],
            "text/html": [
              "<div>\n",
              "<style scoped>\n",
              "    .dataframe tbody tr th:only-of-type {\n",
              "        vertical-align: middle;\n",
              "    }\n",
              "\n",
              "    .dataframe tbody tr th {\n",
              "        vertical-align: top;\n",
              "    }\n",
              "\n",
              "    .dataframe thead th {\n",
              "        text-align: right;\n",
              "    }\n",
              "</style>\n",
              "<table border=\"1\" class=\"dataframe\">\n",
              "  <thead>\n",
              "    <tr style=\"text-align: right;\">\n",
              "      <th></th>\n",
              "      <th>label</th>\n",
              "    </tr>\n",
              "  </thead>\n",
              "  <tbody>\n",
              "    <tr>\n",
              "      <th>0</th>\n",
              "      <td>positive</td>\n",
              "    </tr>\n",
              "    <tr>\n",
              "      <th>1</th>\n",
              "      <td>negative</td>\n",
              "    </tr>\n",
              "    <tr>\n",
              "      <th>2</th>\n",
              "      <td>positive</td>\n",
              "    </tr>\n",
              "    <tr>\n",
              "      <th>3</th>\n",
              "      <td>positive</td>\n",
              "    </tr>\n",
              "    <tr>\n",
              "      <th>4</th>\n",
              "      <td>negative</td>\n",
              "    </tr>\n",
              "    <tr>\n",
              "      <th>...</th>\n",
              "      <td>...</td>\n",
              "    </tr>\n",
              "    <tr>\n",
              "      <th>49972</th>\n",
              "      <td>negative</td>\n",
              "    </tr>\n",
              "    <tr>\n",
              "      <th>49973</th>\n",
              "      <td>positive</td>\n",
              "    </tr>\n",
              "    <tr>\n",
              "      <th>49974</th>\n",
              "      <td>positive</td>\n",
              "    </tr>\n",
              "    <tr>\n",
              "      <th>49975</th>\n",
              "      <td>positive</td>\n",
              "    </tr>\n",
              "    <tr>\n",
              "      <th>49976</th>\n",
              "      <td>positive</td>\n",
              "    </tr>\n",
              "  </tbody>\n",
              "</table>\n",
              "<p>49977 rows × 1 columns</p>\n",
              "</div><br><label><b>dtype:</b> object</label>"
            ]
          },
          "metadata": {},
          "execution_count": 6
        }
      ]
    },
    {
      "cell_type": "code",
      "source": [
        "from google.colab import drive\n",
        "drive.mount('/content/drive')"
      ],
      "metadata": {
        "colab": {
          "base_uri": "https://localhost:8080/"
        },
        "id": "57T7coV_WjJA",
        "outputId": "a697a92f-837e-4f0d-90c8-bd2d437eb7e4"
      },
      "execution_count": 3,
      "outputs": [
        {
          "output_type": "stream",
          "name": "stdout",
          "text": [
            "Mounted at /content/drive\n"
          ]
        }
      ]
    },
    {
      "cell_type": "code",
      "source": [
        "import pandas as pd\n",
        "import nltk\n",
        "from sklearn.model_selection import train_test_split\n",
        "from sklearn.metrics import accuracy_score, classification_report, confusion_matrix, ConfusionMatrixDisplay\n",
        "from sklearn.feature_extraction.text import CountVectorizer\n",
        "from sklearn.naive_bayes import MultinomialNB\n",
        "from sklearn.pipeline import make_pipeline\n",
        "import matplotlib.pyplot as plt\n",
        "import seaborn as sns\n",
        "import string\n",
        "# Split the dataset into training and testing sets\n",
        "X_train, X_test, y_train, y_test = train_test_split(X, y, test_size=0.2, random_state=42)\n",
        "\n",
        "# Create a sentiment analysis model pipeline\n",
        "model = make_pipeline(CountVectorizer(), MultinomialNB())\n",
        "model.fit(X_train, y_train)\n",
        "\n",
        "# Make predictions on the test set\n",
        "predictions = model.predict(X_test)\n",
        "\n",
        "# Evaluate the model\n",
        "accuracy = accuracy_score(y_test, predictions)\n",
        "report = classification_report(y_test, predictions)\n",
        "\n",
        "print(f\"Accuracy: {accuracy:.2f}\")\n",
        "print(\"Classification Report:\")\n",
        "print(report)\n",
        "\n",
        "# Example of sentiment analysis on a new review using VADER sentiment analyzer\n",
        "sia = SentimentIntensityAnalyzer()\n",
        "new_review = \"i have noticed a significant reduction\"\n",
        "compound_score = sia.polarity_scores(new_review)['compound']\n",
        "\n",
        "# Assign a label based on the compound score\n",
        "new_prediction = 'positive' if compound_score >= 0 else 'negative'\n",
        "print(f\"Sentiment Prediction for the new review: {new_prediction}\")\n"
      ],
      "metadata": {
        "id": "_zoqDVBg3VvH",
        "colab": {
          "base_uri": "https://localhost:8080/"
        },
        "outputId": "bc84e489-9f2f-4269-e0dd-0a474e769cdf"
      },
      "execution_count": 22,
      "outputs": [
        {
          "output_type": "stream",
          "name": "stdout",
          "text": [
            "Accuracy: 0.92\n",
            "Classification Report:\n",
            "              precision    recall  f1-score   support\n",
            "\n",
            "    negative       0.57      0.35      0.43       932\n",
            "    positive       0.94      0.97      0.95      9064\n",
            "\n",
            "    accuracy                           0.92      9996\n",
            "   macro avg       0.75      0.66      0.69      9996\n",
            "weighted avg       0.90      0.92      0.91      9996\n",
            "\n",
            "Sentiment Prediction for the new review: positive\n"
          ]
        }
      ]
    },
    {
      "cell_type": "code",
      "source": [
        "import pandas as pd\n",
        "import matplotlib.pyplot as plt\n",
        "from sklearn.metrics import accuracy_score, classification_report\n",
        "\n",
        "# Dummy dataset split for illustration (replace X_train, X_test, y_train, y_test with actual data)\n",
        "X_train, X_test, y_train, y_test = train_test_split(X, y, test_size=0.2, random_state=42)\n",
        "\n",
        "# Train a Naive Bayes model with CountVectorizer\n",
        "model = make_pipeline(CountVectorizer(), MultinomialNB())\n",
        "model.fit(X_train, y_train)\n",
        "\n",
        "# Make predictions and evaluate\n",
        "predictions = model.predict(X_test)\n",
        "accuracy = accuracy_score(y_test, predictions)\n",
        "\n",
        "# Generate the classification report\n",
        "report = classification_report(y_test, predictions, output_dict=True)\n",
        "print(f\"Accuracy: {accuracy:.2f}\")\n",
        "print(\"Classification Report:\")\n",
        "print(classification_report(y_test, predictions))\n",
        "\n",
        "# ---------------- Visualization ---------------- #\n",
        "\n",
        "# Extract metrics (precision, recall, f1-score) for the two classes\n",
        "classes = list(report.keys())[:2]  # Extract only \"negative\" and \"positive\" classes\n",
        "metrics = ['precision', 'recall', 'f1-score']\n",
        "\n",
        "# Prepare data for class-wise metrics\n",
        "data = {metric: [report[cls][metric] for cls in classes] for metric in metrics}\n",
        "metrics_df = pd.DataFrame(data, index=classes)\n",
        "\n",
        "# Add accuracy as a single bar\n",
        "metrics_df.loc['accuracy'] = [accuracy] * len(metrics)  # Accuracy across all metrics\n",
        "\n",
        "# Plot the bar chart\n",
        "plt.figure(figsize=(10, 6))\n",
        "metrics_df.plot(kind='bar', colormap='viridis', alpha=0.8)\n",
        "plt.title(\"Precision, Recall, F1-Score, and Accuracy\")\n",
        "plt.ylabel(\"Score\")\n",
        "plt.xlabel(\"Metrics and Accuracy\")\n",
        "plt.xticks(rotation=0)\n",
        "plt.legend(title=\"Metrics\")\n",
        "plt.grid(axis=\"y\", linestyle=\"--\", alpha=0.7)\n",
        "plt.show()\n"
      ],
      "metadata": {
        "id": "RR8_rp-sw5TN",
        "colab": {
          "base_uri": "https://localhost:8080/",
          "height": 691
        },
        "outputId": "38d7461a-349a-4743-af06-cd0cdd8a4aff"
      },
      "execution_count": 8,
      "outputs": [
        {
          "output_type": "stream",
          "name": "stdout",
          "text": [
            "Accuracy: 0.92\n",
            "Classification Report:\n",
            "              precision    recall  f1-score   support\n",
            "\n",
            "    negative       0.57      0.35      0.43       932\n",
            "    positive       0.94      0.97      0.95      9064\n",
            "\n",
            "    accuracy                           0.92      9996\n",
            "   macro avg       0.75      0.66      0.69      9996\n",
            "weighted avg       0.90      0.92      0.91      9996\n",
            "\n"
          ]
        },
        {
          "output_type": "display_data",
          "data": {
            "text/plain": [
              "<Figure size 1000x600 with 0 Axes>"
            ]
          },
          "metadata": {}
        },
        {
          "output_type": "display_data",
          "data": {
            "text/plain": [
              "<Figure size 640x480 with 1 Axes>"
            ],
            "image/png": "[encoded data removed]"
          },
          "metadata": {}
        }
      ]
    }
  ]
}